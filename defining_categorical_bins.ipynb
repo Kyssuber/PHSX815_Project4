{
 "cells": [
  {
   "cell_type": "code",
   "execution_count": 16,
   "metadata": {},
   "outputs": [],
   "source": [
    "import numpy as np\n",
    "from matplotlib import pyplot as plt\n",
    "%matplotlib inline\n",
    "from astropy.table import Table\n",
    "import os\n",
    "from astropy.io import fits\n",
    "from astropy.io import ascii"
   ]
  },
  {
   "cell_type": "markdown",
   "metadata": {},
   "source": [
    "## First Proposition (OBSOLETE)\n",
    "\n",
    "1. Separate Virgo galaxies based on environment (field vs. cluster)\n",
    "2. Cut this result such that the medium-sized galaxies remain (those with SNR>20 but median sizes and median masses)\n",
    "3. Run GALFIT on this sample.\n",
    "4. Extract from the resulting .txt file the Sersic index column, generate histogram.\n",
    "5. Try to \"qualify\" expectations of the fraction of quenched (red n' dead) vs. active (spiral) galaxies according to papers, in cluster versus field environments.\n",
    "6. Compare to simulated outcomes.\n",
    "    1. Dice rolls. First have a look at output data from GALFIT, then tailor bins according to output Sersic indices. \n",
    "    2. Compare null to proposed hypothesis (the latter of which claiming that cluster galaxies tend to exhibit more quenched profiles?)\n",
    "    3. Perform KS test (see Greg's Slack message) to determine whether actual data aligns more soundly with null or proposed hypothesis."
   ]
  },
  {
   "cell_type": "code",
   "execution_count": 15,
   "metadata": {},
   "outputs": [],
   "source": [
    "#let's have a look at Sersic index distributions for cluster vs. field environments..."
   ]
  },
  {
   "cell_type": "code",
   "execution_count": 17,
   "metadata": {},
   "outputs": [],
   "source": [
    "cluster = ascii.read(homedir+\"/github/PHSX815_Project4/cluster/param_cornerplots.txt\")\n",
    "filament = ascii.read(homedir+\"/github/PHSX815_Project4/filament/param_cornerplots.txt\")\n",
    "field = ascii.read(homedir+\"/github/PHSX815_Project4/field/param_cornerplots.txt\")"
   ]
  },
  {
   "cell_type": "code",
   "execution_count": 42,
   "metadata": {},
   "outputs": [
    {
     "data": {
      "text/plain": [
       "Text(5, 0.28, 'field mean: 0.952')"
      ]
     },
     "execution_count": 42,
     "metadata": {},
     "output_type": "execute_result"
    },
    {
     "data": {
      "image/png": "[encoded data removed]",
      "text/plain": [
       "<Figure size 720x576 with 1 Axes>"
      ]
     },
     "metadata": {
      "needs_background": "light"
     },
     "output_type": "display_data"
    }
   ],
   "source": [
    "#the following is adapted from python version of prof. Rogan's code.        \n",
    "weights_cluster = np.ones_like(cluster['nsersic']) / len(cluster['nsersic'])\n",
    "weights_field = np.ones_like(field['nsersic']) / len(field['nsersic'])\n",
    "\n",
    "\n",
    "\n",
    "plt.figure(figsize=(10,8))\n",
    "n = plt.hist(cluster['nsersic'],weights=weights_cluster,alpha=0.5,label=\"cluster\",bins=20)\n",
    "m = plt.hist(field['nsersic'],weights=weights_field,alpha=0.5,label=\"field\",bins=20)\n",
    "plt.xlim(0,8)\n",
    "plt.xlabel('Sersic index',fontsize=20)\n",
    "plt.ylabel('Probability',fontsize=20)\n",
    "plt.legend(fontsize=24)\n",
    "plt.text(5,0.32,'cluster mean: %.3f'%(np.mean(cluster['nsersic'])),fontsize=20)\n",
    "plt.text(5,0.28,'field mean: %.3f'%(np.mean(field['nsersic'])),fontsize=20)"
   ]
  },
  {
   "cell_type": "code",
   "execution_count": 43,
   "metadata": {},
   "outputs": [],
   "source": [
    "#Sersic number sort of encodes that galaxy’s size and luminosity; galaxies with \n",
    "#larger index numbers (about 4 or so) tend to be more elliptical/smooth, while those with \n",
    "#small index numbers tend to present with central flux peaks, more characteristic of spiral galaxies.\n",
    "#NO DEFINITIVE TREND, but there is a slight favoring of field galaxies with respect to more peaky spirals.\n",
    "#But there were also troubles with Sersic numbers much greater than 10. \n",
    "#So...is this slight favoring even correct?\n",
    "\n",
    "\n",
    "#Anyhow. Returning to masses. No SNR cut."
   ]
  },
  {
   "cell_type": "markdown",
   "metadata": {},
   "source": [
    "-------"
   ]
  },
  {
   "cell_type": "markdown",
   "metadata": {},
   "source": [
    "## Second Proposition"
   ]
  },
  {
   "cell_type": "code",
   "execution_count": 92,
   "metadata": {},
   "outputs": [],
   "source": [
    "#expect galaxies to be more massive in denser environments (due to ~~*cannibalism*~~).\n",
    "#can test with galaxy data\n",
    "#from experimental data of Virgo cluster (proposed hypothesis percentages); 50/50 (null hypothesis)\n",
    "#compare filament vs. field, cluster vs. field.\n",
    "#determine minimum number of galaxies to sample to really establish whether a trend exists..?\n",
    "#ten bins..? Perhaps?\n",
    "\n",
    "#first, pull mgstab (which has logmass column)\n",
    "#cut according to NaN entries. "
   ]
  },
  {
   "cell_type": "code",
   "execution_count": 45,
   "metadata": {},
   "outputs": [],
   "source": [
    "#data from vf catalogs (Virgo research group)\n",
    "\n",
    "homedir = os.getenv(\"HOME\")\n",
    "tabledir = homedir+'/Desktop/v1-20210308/'\n",
    "\n",
    "vfmain = Table.read(tabledir+'vf_north_v1_main.fits')\n",
    "hyptab = Table.read(tabledir+'vf_north_v1_hyperleda.fits')\n",
    "mgstab = Table.read(tabledir+'vf_north_v1_z0mgs.fits')\n",
    "envtab = Table.read(tabledir+'/vf_north_v1_main_envsummary_Kourkchi.fits')"
   ]
  },
  {
   "cell_type": "code",
   "execution_count": 56,
   "metadata": {},
   "outputs": [
    {
     "data": {
      "text/plain": [
       "2375"
      ]
     },
     "execution_count": 56,
     "metadata": {},
     "output_type": "execute_result"
    }
   ],
   "source": [
    "#remove all nan entries in mass column\n",
    "flag = []\n",
    "for i in mgstab['logmass']:\n",
    "    if str(i) == 'nan':\n",
    "        flag.append(0)\n",
    "    else:\n",
    "        flag.append(1)\n",
    "\n",
    "        \n",
    "#convert 0,1 to False, True\n",
    "tf_list = []\n",
    "for i in flag:\n",
    "    if i == 0:\n",
    "        tf_list.append(False)\n",
    "    else:\n",
    "        tf_list.append(True)\n",
    "\n",
    "        \n",
    "#convert to numpy array\n",
    "mass_flag = np.asarray(tf_list)\n",
    "\n",
    "\n",
    "#lastly, apply flag to mgs, vf, and env tables\n",
    "env_cut = envtab[mass_flag]\n",
    "mgs_cut = mgstab[mass_flag]\n",
    "vf_cut = vfmain[mass_flag]\n",
    "\n",
    "#number of galaxies retained\n",
    "len(mgs_cut)"
   ]
  },
  {
   "cell_type": "code",
   "execution_count": 59,
   "metadata": {},
   "outputs": [
    {
     "name": "stdout",
     "output_type": "stream",
     "text": [
      "358\n",
      "869\n",
      "623\n"
     ]
    }
   ],
   "source": [
    "#now separate galaxies according to location -- either cluster or field (or filament, since #fil>#clus)\n",
    "\n",
    "cluster_flag = (env_cut['flag_clus']>0)\n",
    "field_flag = (env_cut['flag_isol']>0)\n",
    "fil_flag = (env_cut['flag_fil']>0)\n",
    "\n",
    "print(len(mgs_cut[cluster_flag]))\n",
    "print(len(mgs_cut[field_flag]))\n",
    "print(len(mgs_cut[fil_flag]))"
   ]
  },
  {
   "cell_type": "code",
   "execution_count": 97,
   "metadata": {
    "scrolled": true
   },
   "outputs": [
    {
     "data": {
      "text/plain": [
       "Text(7.2, 0.11, 'field mean: 9.281')"
      ]
     },
     "execution_count": 97,
     "metadata": {},
     "output_type": "execute_result"
    },
    {
     "data": {
      "image/png": "[encoded data removed]",
      "text/plain": [
       "<Figure size 432x288 with 1 Axes>"
      ]
     },
     "metadata": {
      "needs_background": "light"
     },
     "output_type": "display_data"
    },
    {
     "data": {
      "image/png": "[encoded data removed]",
      "text/plain": [
       "<Figure size 432x288 with 1 Axes>"
      ]
     },
     "metadata": {
      "needs_background": "light"
     },
     "output_type": "display_data"
    },
    {
     "data": {
      "image/png": "[encoded data removed]",
      "text/plain": [
       "<Figure size 432x288 with 1 Axes>"
      ]
     },
     "metadata": {
      "needs_background": "light"
     },
     "output_type": "display_data"
    },
    {
     "data": {
      "image/png": "[encoded data removed]",
      "text/plain": [
       "<Figure size 720x576 with 1 Axes>"
      ]
     },
     "metadata": {
      "needs_background": "light"
     },
     "output_type": "display_data"
    }
   ],
   "source": [
    "plt.figure()\n",
    "plt.hist(mgs_cut['logmass'],bins=90)\n",
    "plt.xlabel('logmass',fontsize=15)\n",
    "plt.ylabel('counts (all)',fontsize=15)\n",
    "\n",
    "plt.figure()\n",
    "plt.hist(mgs_cut['logmass'][cluster_flag],bins=50)\n",
    "plt.xlabel('logmass',fontsize=15)\n",
    "plt.ylabel('counts (cluster)',fontsize=15)\n",
    "\n",
    "plt.figure()\n",
    "plt.hist(mgs_cut['logmass'][field_flag],bins=50)\n",
    "plt.xlabel('logmass',fontsize=15)\n",
    "plt.ylabel('counts (field)',fontsize=15)\n",
    "\n",
    "#the following is adapted from python version of prof. Rogan's code.        \n",
    "weights_cluster = np.ones_like(mgs_cut['logmass'][cluster_flag]) / len(mgs_cut['logmass'][cluster_flag])\n",
    "weights_field = np.ones_like(mgs_cut['logmass'][field_flag]) / len(mgs_cut['logmass'][field_flag])\n",
    "\n",
    "#firstly, typing mgs_cut[yaddayaddayadda] is obnoxious. I will shorten it.\n",
    "mgs_cluster = mgs_cut['logmass'][cluster_flag]\n",
    "mgs_field = mgs_cut['logmass'][field_flag]\n",
    "\n",
    "plt.figure(figsize=(10,8))\n",
    "n = plt.hist(mgs_cluster,weights=weights_cluster,alpha=0.5,label=\"cluster\",bins=20)\n",
    "m = plt.hist(mgs_field,weights=weights_field,alpha=0.5,label=\"field\",bins=20)\n",
    "plt.xlabel('logmass (solar masses)',fontsize=20)\n",
    "plt.ylabel('Probability',fontsize=20)\n",
    "plt.legend(fontsize=24)\n",
    "plt.text(7.2,0.12,'cluster mean: %.3f'%(np.mean(mgs_cluster)),fontsize=20)\n",
    "plt.text(7.2,0.11,'field mean: %.3f'%(np.mean(mgs_field)),fontsize=20)"
   ]
  },
  {
   "cell_type": "code",
   "execution_count": 98,
   "metadata": {},
   "outputs": [
    {
     "name": "stdout",
     "output_type": "stream",
     "text": [
      "field:  0.12313003452243959\n",
      "cluster:  0.276536312849162\n"
     ]
    }
   ],
   "source": [
    "#instances of a galaxy with logmass being > 10 for field:\n",
    "print('field: ',len(np.where(mgs_field>10)[0])/len(mgs_field))\n",
    "#instances of a galaxy with logmass being >10 for cluster:\n",
    "print('cluster: ',len(np.where(mgs_cluster>10)[0])/len(mgs_cluster))"
   ]
  },
  {
   "cell_type": "code",
   "execution_count": 101,
   "metadata": {},
   "outputs": [
    {
     "name": "stdout",
     "output_type": "stream",
     "text": [
      "7.37\n",
      "11.45\n"
     ]
    }
   ],
   "source": [
    "#this is reassuring. let's try defining a few additional bins.\n",
    "\n",
    "print(np.min(mgs_field))\n",
    "print(np.max(mgs_cluster))"
   ]
  },
  {
   "cell_type": "code",
   "execution_count": 126,
   "metadata": {},
   "outputs": [
    {
     "name": "stdout",
     "output_type": "stream",
     "text": [
      "7.37 to 8 (bin one)\n",
      "field: 0.01266\n",
      "cluster: 0.02514\n",
      " \n",
      "8 to 8.5 (bin two)\n",
      "field: 0.06674\n",
      "cluster: 0.06425\n",
      " \n",
      "8.5 to 9 (bin three)\n",
      "field: 0.25547\n",
      "cluster: 0.15363\n",
      " \n",
      "9 to 9.5 (bin four)\n",
      "field: 0.29459\n",
      "cluster: 0.25698\n",
      " \n",
      "9.5 to 10 (bin five)\n",
      "field: 0.22325\n",
      "cluster: 0.20670\n",
      " \n",
      "10 to 10.5 (bin six)\n",
      "field: 0.09551\n",
      "cluster: 0.16760\n",
      " \n",
      "10.5 to 11 (bin seven)\n",
      "field: 0.02532\n",
      "cluster: 0.08380\n",
      " \n",
      "11 to 11.45 (bin eight)\n",
      "field: 0.00230\n",
      "cluster: 0.01955\n"
     ]
    }
   ],
   "source": [
    "#7.37 to 8\n",
    "print('7.37 to 8 (bin one)')\n",
    "print('field: %.5f'%(len(np.where((mgs_field>7.37) & (mgs_field<8))[0])/len(mgs_field)))\n",
    "print('cluster: %.5f'%(len(np.where((mgs_cluster>7.37) & (mgs_cluster<8))[0])/len(mgs_cluster)))\n",
    "print(' ')\n",
    "\n",
    "#8 to 8.5\n",
    "print('8 to 8.5 (bin two)')\n",
    "print('field: %.5f'%(len(np.where((mgs_field>8) & (mgs_field<8.5))[0])/len(mgs_field)))\n",
    "print('cluster: %.5f'%(len(np.where((mgs_cluster>8) & (mgs_cluster<8.5))[0])/len(mgs_cluster)))\n",
    "print(' ')\n",
    "\n",
    "#8.5 to 9\n",
    "print('8.5 to 9 (bin three)')\n",
    "print('field: %.5f'%(len(np.where((mgs_field>8.5) & (mgs_field<9))[0])/len(mgs_field)))\n",
    "print('cluster: %.5f'%(len(np.where((mgs_cluster>8.5) & (mgs_cluster<9))[0])/len(mgs_cluster)))\n",
    "print(' ')\n",
    "\n",
    "#9 to 9.5\n",
    "print('9 to 9.5 (bin four)')\n",
    "print('field: %.5f'%(len(np.where((mgs_field>9) & (mgs_field<9.5))[0])/len(mgs_field)))\n",
    "print('cluster: %.5f'%(len(np.where((mgs_cluster>9) & (mgs_cluster<9.5))[0])/len(mgs_cluster)))\n",
    "print(' ')\n",
    "\n",
    "#9.5 to 10\n",
    "print('9.5 to 10 (bin five)')\n",
    "print('field: %.5f'%(len(np.where((mgs_field>9.5) & (mgs_field<10))[0])/len(mgs_field)))\n",
    "print('cluster: %.5f'%(len(np.where((mgs_cluster>9.5) & (mgs_cluster<10))[0])/len(mgs_cluster)))\n",
    "print(' ')\n",
    "\n",
    "#10 to 10.5\n",
    "print('10 to 10.5 (bin six)')\n",
    "print('field: %.5f'%(len(np.where((mgs_field>10) & (mgs_field<10.5))[0])/len(mgs_field)))\n",
    "print('cluster: %.5f'%(len(np.where((mgs_cluster>10) & (mgs_cluster<10.5))[0])/len(mgs_cluster)))\n",
    "print(' ')\n",
    "\n",
    "#10.5 to 11\n",
    "print('10.5 to 11 (bin seven)')\n",
    "print('field: %.5f'%(len(np.where((mgs_field>10.5) & (mgs_field<11))[0])/len(mgs_field)))\n",
    "print('cluster: %.5f'%(len(np.where((mgs_cluster>10.5) & (mgs_cluster<11))[0])/len(mgs_cluster)))\n",
    "print(' ')\n",
    "\n",
    "#11 to 11.45\n",
    "print('11 to 11.45 (bin eight)')\n",
    "print('field: %.5f'%(len(np.where((mgs_field>11) & (mgs_field<11.5))[0])/len(mgs_field)))\n",
    "print('cluster: %.5f'%(len(np.where((mgs_cluster>11) & (mgs_cluster<11.5))[0])/len(mgs_cluster)))"
   ]
  },
  {
   "cell_type": "code",
   "execution_count": 112,
   "metadata": {},
   "outputs": [],
   "source": [
    "#INCREDIBLY SIMPLE MODEL:\n",
    "#let's assume this Virgo distribution is representative of all cluster/field galaxies. What number of samples\n",
    "#is necessary to distinguish between this and the \"null hypothesis\" (that the distribution is as would be a\n",
    "#fair die)? How powerful can a hypothesis test be here?"
   ]
  },
  {
   "cell_type": "markdown",
   "metadata": {},
   "source": [
    "-------"
   ]
  },
  {
   "cell_type": "code",
   "execution_count": null,
   "metadata": {},
   "outputs": [],
   "source": []
  }
 ],
 "metadata": {
  "kernelspec": {
   "display_name": "Python 3",
   "language": "python",
   "name": "python3"
  },
  "language_info": {
   "codemirror_mode": {
    "name": "ipython",
    "version": 3
   },
   "file_extension": ".py",
   "mimetype": "text/x-python",
   "name": "python",
   "nbconvert_exporter": "python",
   "pygments_lexer": "ipython3",
   "version": "3.8.3"
  }
 },
 "nbformat": 4,
 "nbformat_minor": 4
}
